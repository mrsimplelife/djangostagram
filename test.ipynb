{
 "metadata": {
  "language_info": {
   "codemirror_mode": {
    "name": "ipython",
    "version": 3
   },
   "file_extension": ".py",
   "mimetype": "text/x-python",
   "name": "python",
   "nbconvert_exporter": "python",
   "pygments_lexer": "ipython3",
   "version": "3.8.3-final"
  },
  "orig_nbformat": 2,
  "kernelspec": {
   "name": "python3",
   "display_name": "Python 3.8.3 64-bit ('djangostagram': pipenv)",
   "metadata": {
    "interpreter": {
     "hash": "981ea37cfbf2acf5a2a7e0f2cf6c6466a7037912a8f0d6722fe9644968b345a4"
    }
   }
  }
 },
 "nbformat": 4,
 "nbformat_minor": 2,
 "cells": [
  {
   "cell_type": "code",
   "execution_count": 2,
   "metadata": {},
   "outputs": [],
   "source": [
    "import os\n",
    "os.environ['DJANGO_SETTINGS_MODULE']='youme.settings.common'\n",
    "os.environ[\"DJANGO_ALLOW_ASYNC_UNSAFE\"] = \"true\"\n",
    "import django\n",
    "django.setup()"
   ]
  },
  {
   "cell_type": "code",
   "execution_count": 3,
   "metadata": {},
   "outputs": [],
   "source": [
    "# from django.contrib.auth import get_user_model\n",
    "# User=get_user_model()\n",
    "# user=User.objects.last()\n",
    "# user.set_password('user1234')\n",
    "# user.save()\n",
    "# user.password"
   ]
  },
  {
   "cell_type": "code",
   "execution_count": 4,
   "metadata": {},
   "outputs": [],
   "source": [
    "os.environ.get('SENDGRID_API_KEY')\n",
    "from django.core.mail import send_mail\n",
    "# send_mail('Subject here', 'Here is the message.', 'parkddongbird@gmail.com', ['mrsimplelife@naver.com'], fail_silently=False)"
   ]
  },
  {
   "cell_type": "code",
   "execution_count": 5,
   "metadata": {},
   "outputs": [
    {
     "output_type": "execute_result",
     "data": {
      "text/plain": [
       "<Post: 안녕하세요 aldfja;lsdfjwr!!!! #123 #hi #first>"
      ]
     },
     "metadata": {},
     "execution_count": 5
    }
   ],
   "source": [
    "from instagram.models import Post\n",
    "Post.objects.last()"
   ]
  },
  {
   "cell_type": "code",
   "execution_count": 6,
   "metadata": {},
   "outputs": [
    {
     "output_type": "execute_result",
     "data": {
      "text/plain": [
       "['#123', '#hi', '#first']"
      ]
     },
     "metadata": {},
     "execution_count": 6
    }
   ],
   "source": [
    "post=_\n",
    "post\n",
    "post.caption\n",
    "import re\n",
    "re.findall(r\"#[a-zA-Z\\dㄱ-힣]+\",post.caption)"
   ]
  },
  {
   "cell_type": "code",
   "execution_count": 9,
   "metadata": {},
   "outputs": [
    {
     "output_type": "execute_result",
     "data": {
      "text/plain": [
       "<QuerySet [<Tag: 123>, <Tag: hi>, <Tag: first>]>"
      ]
     },
     "metadata": {},
     "execution_count": 9
    }
   ],
   "source": [
    "post.extract_tag_list()\n",
    "post.tag_set.all()"
   ]
  },
  {
   "cell_type": "code",
   "execution_count": null,
   "metadata": {},
   "outputs": [],
   "source": []
  }
 ]
}