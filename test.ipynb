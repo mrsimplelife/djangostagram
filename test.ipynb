{
 "metadata": {
  "language_info": {
   "codemirror_mode": {
    "name": "ipython",
    "version": 3
   },
   "file_extension": ".py",
   "mimetype": "text/x-python",
   "name": "python",
   "nbconvert_exporter": "python",
   "pygments_lexer": "ipython3",
   "version": "3.9.1-final"
  },
  "orig_nbformat": 2,
  "kernelspec": {
   "name": "python3",
   "display_name": "Python 3.9.1 64-bit ('zenv': venv)",
   "metadata": {
    "interpreter": {
     "hash": "011f3ff97401cf64fb90eca048533edb6c54efd1a1ae150c4af8f35994749a51"
    }
   }
  }
 },
 "nbformat": 4,
 "nbformat_minor": 2,
 "cells": [
  {
   "cell_type": "code",
   "execution_count": 2,
   "metadata": {},
   "outputs": [],
   "source": [
    "import os\n",
    "os.environ['DJANGO_SETTINGS_MODULE']='youme.settings.common'\n",
    "os.environ[\"DJANGO_ALLOW_ASYNC_UNSAFE\"] = \"true\"\n",
    "import django\n",
    "django.setup()"
   ]
  },
  {
   "cell_type": "code",
   "execution_count": 9,
   "metadata": {},
   "outputs": [
    {
     "output_type": "execute_result",
     "data": {
      "text/plain": [
       "'pbkdf2_sha256$216000$eyNk0PeFXpGx$22DGwFh6QC9AnVP4Jqbp99Zq4wyi6EYkBvWPOwdVwxs='"
      ]
     },
     "metadata": {},
     "execution_count": 9
    }
   ],
   "source": [
    "from django.contrib.auth import get_user_model\n",
    "User=get_user_model()\n",
    "user=User.objects.last()\n",
    "user.set_password('user1234')\n",
    "user.save()\n",
    "user.password"
   ]
  },
  {
   "cell_type": "code",
   "execution_count": null,
   "metadata": {},
   "outputs": [],
   "source": []
  }
 ]
}